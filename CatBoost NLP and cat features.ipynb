{
 "cells": [
  {
   "cell_type": "code",
   "execution_count": 1,
   "id": "e9c9bce0",
   "metadata": {},
   "outputs": [],
   "source": [
    "import pandas as pd\n",
    "import numpy as np\n",
    "import re\n",
    "from sklearn.feature_extraction.text import CountVectorizer, TfidfVectorizer\n",
    "from sklearn.linear_model import SGDClassifier\n",
    "from sklearn.metrics import classification_report\n",
    "\n",
    "import pymorphy2\n",
    "morph = pymorphy2.MorphAnalyzer()\n",
    "from sklearn.pipeline import Pipeline\n",
    "#from sklearn.metrics.scorer import make_scorer\n",
    "from sklearn.model_selection import train_test_split, GridSearchCV, RandomizedSearchCV"
   ]
  },
  {
   "cell_type": "code",
   "execution_count": 2,
   "id": "e34727a2",
   "metadata": {},
   "outputs": [],
   "source": [
    "\n",
    "import numpy as np # linear algebra\n",
    "import pandas as pd # data processing, CSV file I/O (e.g. pd.read_csv)\n",
    "\n",
    "# Input data files are available in the read-only \"../input/\" directory\n",
    "# For example, running this (by clicking run or pressing Shift+Enter) will list all files under the input directory\n",
    "\n",
    "import os\n",
    "for dirname, _, filenames in os.walk('/kaggle/input'):\n",
    "    for filename in filenames:\n",
    "        print(os.path.join(dirname, filename))"
   ]
  },
  {
   "cell_type": "code",
   "execution_count": 3,
   "id": "1d7165c1",
   "metadata": {},
   "outputs": [],
   "source": [
    "import numpy as np\n",
    "from catboost import Pool, CatBoostClassifier\n",
    "import matplotlib.pyplot as plt\n",
    "import seaborn as sns\n",
    "import numpy as np\n",
    "from nltk.corpus import stopwords\n",
    "from nltk.util import ngrams\n",
    "from sklearn.feature_extraction.text import CountVectorizer\n",
    "from collections import defaultdict\n",
    "from collections import  Counter\n",
    "plt.style.use('ggplot')\n",
    "stop=set(stopwords.words('english'))\n",
    "import re\n",
    "from nltk.tokenize import word_tokenize"
   ]
  },
  {
   "cell_type": "code",
   "execution_count": 4,
   "id": "ff334b1c",
   "metadata": {},
   "outputs": [],
   "source": [
    "data=pd.read_excel('data.xlsx', dtype=object)"
   ]
  },
  {
   "cell_type": "code",
   "execution_count": 5,
   "id": "6396c7f0",
   "metadata": {},
   "outputs": [
    {
     "data": {
      "text/html": [
       "<div>\n",
       "<style scoped>\n",
       "    .dataframe tbody tr th:only-of-type {\n",
       "        vertical-align: middle;\n",
       "    }\n",
       "\n",
       "    .dataframe tbody tr th {\n",
       "        vertical-align: top;\n",
       "    }\n",
       "\n",
       "    .dataframe thead th {\n",
       "        text-align: right;\n",
       "    }\n",
       "</style>\n",
       "<table border=\"1\" class=\"dataframe\">\n",
       "  <thead>\n",
       "    <tr style=\"text-align: right;\">\n",
       "      <th></th>\n",
       "      <th>Unnamed: 0</th>\n",
       "      <th>TARGET</th>\n",
       "      <th>TEXT</th>\n",
       "    </tr>\n",
       "  </thead>\n",
       "  <tbody>\n",
       "    <tr>\n",
       "      <th>0</th>\n",
       "      <td>0</td>\n",
       "      <td>INSULT</td>\n",
       "      <td>скотина! что сказать</td>\n",
       "    </tr>\n",
       "    <tr>\n",
       "      <th>1</th>\n",
       "      <td>7</td>\n",
       "      <td>INSULT</td>\n",
       "      <td>заколоть этого плешивого урода что бы крякнул ...</td>\n",
       "    </tr>\n",
       "  </tbody>\n",
       "</table>\n",
       "</div>"
      ],
      "text/plain": [
       "  Unnamed: 0  TARGET                                               TEXT\n",
       "0          0  INSULT                               скотина! что сказать\n",
       "1          7  INSULT  заколоть этого плешивого урода что бы крякнул ..."
      ]
     },
     "execution_count": 5,
     "metadata": {},
     "output_type": "execute_result"
    }
   ],
   "source": [
    "data.head(2)"
   ]
  },
  {
   "cell_type": "code",
   "execution_count": 6,
   "id": "dac5c9f1",
   "metadata": {},
   "outputs": [],
   "source": [
    "data=data.sample(500)"
   ]
  },
  {
   "cell_type": "code",
   "execution_count": 7,
   "id": "bc70350d",
   "metadata": {},
   "outputs": [
    {
     "data": {
      "text/plain": [
       "INSULT       259\n",
       "NORMAL       136\n",
       "THREAT        75\n",
       "OBSCENITY     30\n",
       "Name: TARGET, dtype: int64"
      ]
     },
     "execution_count": 7,
     "metadata": {},
     "output_type": "execute_result"
    }
   ],
   "source": [
    "data.TARGET.value_counts()"
   ]
  },
  {
   "cell_type": "code",
   "execution_count": 8,
   "id": "c9d562a7",
   "metadata": {},
   "outputs": [],
   "source": [
    "\n",
    "def norm(txt):\n",
    "    lst = re.sub('[^А-Яа-яa-zA-Z]+', ' ', str(txt)).lower() #оставляет только А-я, A-z\n",
    "    lst = lst.split(' ')\n",
    "\n",
    "    words = []\n",
    "    \n",
    "    for word in lst:\n",
    "        p = morph.parse(word)[0]\n",
    "        words.append(p.normal_form)\n",
    "\n",
    "    return ' '.join(words)"
   ]
  },
  {
   "cell_type": "code",
   "execution_count": 9,
   "id": "7be1c744",
   "metadata": {},
   "outputs": [
    {
     "name": "stdout",
     "output_type": "stream",
     "text": [
      "Wall time: 1.74 s\n"
     ]
    }
   ],
   "source": [
    "%%time\n",
    "data['TEXT']=data['TEXT'].apply(norm)"
   ]
  },
  {
   "cell_type": "code",
   "execution_count": 10,
   "id": "b7fc4b92",
   "metadata": {},
   "outputs": [],
   "source": [
    "data['VIP']=np.random.randint(4,size=data.shape[0]).astype(str)\n",
    "data['LOL']=np.random.randint(20,size=data.shape[0]).astype(str)\n",
    "data['ABC']=np.random.randint(10,size=data.shape[0])"
   ]
  },
  {
   "cell_type": "code",
   "execution_count": 11,
   "id": "13dd5be0",
   "metadata": {},
   "outputs": [
    {
     "data": {
      "text/html": [
       "<div>\n",
       "<style scoped>\n",
       "    .dataframe tbody tr th:only-of-type {\n",
       "        vertical-align: middle;\n",
       "    }\n",
       "\n",
       "    .dataframe tbody tr th {\n",
       "        vertical-align: top;\n",
       "    }\n",
       "\n",
       "    .dataframe thead th {\n",
       "        text-align: right;\n",
       "    }\n",
       "</style>\n",
       "<table border=\"1\" class=\"dataframe\">\n",
       "  <thead>\n",
       "    <tr style=\"text-align: right;\">\n",
       "      <th></th>\n",
       "      <th>Unnamed: 0</th>\n",
       "      <th>TARGET</th>\n",
       "      <th>TEXT</th>\n",
       "      <th>VIP</th>\n",
       "      <th>LOL</th>\n",
       "      <th>ABC</th>\n",
       "    </tr>\n",
       "  </thead>\n",
       "  <tbody>\n",
       "    <tr>\n",
       "      <th>59101</th>\n",
       "      <td>7517</td>\n",
       "      <td>NORMAL</td>\n",
       "      <td>девочка чай и кофе разобрать и передать следит...</td>\n",
       "      <td>1</td>\n",
       "      <td>5</td>\n",
       "      <td>0</td>\n",
       "    </tr>\n",
       "    <tr>\n",
       "      <th>37822</th>\n",
       "      <td>182019</td>\n",
       "      <td>THREAT</td>\n",
       "      <td>они бы рука оторвать за такой латание</td>\n",
       "      <td>1</td>\n",
       "      <td>11</td>\n",
       "      <td>4</td>\n",
       "    </tr>\n",
       "  </tbody>\n",
       "</table>\n",
       "</div>"
      ],
      "text/plain": [
       "      Unnamed: 0  TARGET                                               TEXT  \\\n",
       "59101       7517  NORMAL  девочка чай и кофе разобрать и передать следит...   \n",
       "37822     182019  THREAT             они бы рука оторвать за такой латание    \n",
       "\n",
       "      VIP LOL  ABC  \n",
       "59101   1   5    0  \n",
       "37822   1  11    4  "
      ]
     },
     "execution_count": 11,
     "metadata": {},
     "output_type": "execute_result"
    }
   ],
   "source": [
    "data.head(2)"
   ]
  },
  {
   "cell_type": "code",
   "execution_count": 12,
   "id": "38b9b711",
   "metadata": {},
   "outputs": [],
   "source": [
    "cat_features = ['VIP','LOL']\n",
    "text_features = ['TEXT']\n"
   ]
  },
  {
   "cell_type": "code",
   "execution_count": 13,
   "id": "020852bb",
   "metadata": {},
   "outputs": [],
   "source": [
    "X=data[['TEXT','VIP', 'LOL', 'ABC']]\n",
    "y=data.TARGET"
   ]
  },
  {
   "cell_type": "code",
   "execution_count": 14,
   "id": "016dcbc2",
   "metadata": {},
   "outputs": [],
   "source": [
    "X_train, X_test, y_train, y_test = train_test_split(X,y.values,test_size=0.15)\n"
   ]
  },
  {
   "cell_type": "code",
   "execution_count": 15,
   "id": "4eb30b3e",
   "metadata": {},
   "outputs": [
    {
     "name": "stdout",
     "output_type": "stream",
     "text": [
      "0:\tlearn: 0.5576471\ttest: 0.6533333\tbest: 0.6533333 (0)\ttotal: 27.4ms\tremaining: 1m 22s\n",
      "500:\tlearn: 0.6964706\ttest: 0.7066667\tbest: 0.7200000 (312)\ttotal: 4.68s\tremaining: 23.3s\n",
      "1000:\tlearn: 0.7341176\ttest: 0.7200000\tbest: 0.7200000 (312)\ttotal: 9.4s\tremaining: 18.8s\n",
      "1500:\tlearn: 0.7576471\ttest: 0.6933333\tbest: 0.7200000 (312)\ttotal: 14.2s\tremaining: 14.2s\n",
      "2000:\tlearn: 0.8117647\ttest: 0.6666667\tbest: 0.7200000 (312)\ttotal: 18.8s\tremaining: 9.38s\n",
      "bestTest = 0.72\n",
      "bestIteration = 312\n",
      "Shrink model to first 313 iterations.\n"
     ]
    },
    {
     "data": {
      "text/plain": [
       "<catboost.core.CatBoostClassifier at 0x22871d1b580>"
      ]
     },
     "execution_count": 15,
     "metadata": {},
     "output_type": "execute_result"
    }
   ],
   "source": [
    "train_pool = Pool(\n",
    "    X_train, \n",
    "    y_train, \n",
    "    cat_features=cat_features, \n",
    "    text_features=text_features, \n",
    "    feature_names=list(X_train)\n",
    ")\n",
    "valid_pool = Pool(\n",
    "    X_test, \n",
    "    y_test,\n",
    "    cat_features=cat_features, \n",
    "    text_features=text_features, \n",
    "    feature_names=list(X_train)\n",
    ")\n",
    "\n",
    "catboost_params = {\n",
    "    'iterations': 3000,\n",
    "    'learning_rate': 0.01,\n",
    "    'eval_metric': 'Accuracy',\n",
    "    'task_type': 'GPU',\n",
    "    'early_stopping_rounds': 2000,\n",
    "    'use_best_model': True,\n",
    "    'verbose': 500\n",
    "}\n",
    "#clas_weight = [5,4]\n",
    "model = CatBoostClassifier(**catboost_params)\n",
    "model.fit(train_pool, eval_set=valid_pool)"
   ]
  },
  {
   "cell_type": "code",
   "execution_count": 16,
   "id": "a0feda26",
   "metadata": {},
   "outputs": [
    {
     "data": {
      "text/plain": [
       "array([['INSULT'],\n",
       "       ['NORMAL'],\n",
       "       ['NORMAL'],\n",
       "       ['THREAT'],\n",
       "       ['NORMAL'],\n",
       "       ['INSULT'],\n",
       "       ['INSULT'],\n",
       "       ['INSULT'],\n",
       "       ['INSULT'],\n",
       "       ['INSULT'],\n",
       "       ['INSULT'],\n",
       "       ['INSULT'],\n",
       "       ['INSULT'],\n",
       "       ['INSULT'],\n",
       "       ['INSULT'],\n",
       "       ['NORMAL'],\n",
       "       ['INSULT'],\n",
       "       ['NORMAL'],\n",
       "       ['NORMAL'],\n",
       "       ['NORMAL'],\n",
       "       ['THREAT'],\n",
       "       ['NORMAL'],\n",
       "       ['INSULT'],\n",
       "       ['NORMAL'],\n",
       "       ['NORMAL'],\n",
       "       ['INSULT'],\n",
       "       ['INSULT'],\n",
       "       ['NORMAL'],\n",
       "       ['INSULT'],\n",
       "       ['INSULT'],\n",
       "       ['INSULT'],\n",
       "       ['INSULT'],\n",
       "       ['INSULT'],\n",
       "       ['NORMAL'],\n",
       "       ['INSULT'],\n",
       "       ['INSULT'],\n",
       "       ['INSULT'],\n",
       "       ['INSULT'],\n",
       "       ['INSULT'],\n",
       "       ['INSULT'],\n",
       "       ['INSULT'],\n",
       "       ['INSULT'],\n",
       "       ['INSULT'],\n",
       "       ['INSULT'],\n",
       "       ['NORMAL'],\n",
       "       ['INSULT'],\n",
       "       ['INSULT'],\n",
       "       ['INSULT'],\n",
       "       ['NORMAL'],\n",
       "       ['NORMAL'],\n",
       "       ['INSULT'],\n",
       "       ['INSULT'],\n",
       "       ['INSULT'],\n",
       "       ['INSULT'],\n",
       "       ['NORMAL'],\n",
       "       ['INSULT'],\n",
       "       ['INSULT'],\n",
       "       ['INSULT'],\n",
       "       ['INSULT'],\n",
       "       ['NORMAL'],\n",
       "       ['NORMAL'],\n",
       "       ['NORMAL'],\n",
       "       ['INSULT'],\n",
       "       ['INSULT'],\n",
       "       ['THREAT'],\n",
       "       ['NORMAL'],\n",
       "       ['THREAT'],\n",
       "       ['INSULT'],\n",
       "       ['INSULT'],\n",
       "       ['INSULT'],\n",
       "       ['NORMAL'],\n",
       "       ['INSULT'],\n",
       "       ['INSULT'],\n",
       "       ['INSULT'],\n",
       "       ['INSULT']], dtype=object)"
      ]
     },
     "execution_count": 16,
     "metadata": {},
     "output_type": "execute_result"
    }
   ],
   "source": [
    "model.predict(X_test)"
   ]
  },
  {
   "cell_type": "code",
   "execution_count": 17,
   "id": "0551a9d8",
   "metadata": {},
   "outputs": [],
   "source": [
    "y_pred = model.predict(X_test)"
   ]
  },
  {
   "cell_type": "code",
   "execution_count": 18,
   "id": "8ba48bb0",
   "metadata": {},
   "outputs": [
    {
     "name": "stdout",
     "output_type": "stream",
     "text": [
      "              precision    recall  f1-score   support\n",
      "\n",
      "      INSULT       0.74      0.84      0.79        44\n",
      "      NORMAL       0.67      0.74      0.70        19\n",
      "   OBSCENITY       0.00      0.00      0.00         3\n",
      "      THREAT       0.75      0.33      0.46         9\n",
      "\n",
      "    accuracy                           0.72        75\n",
      "   macro avg       0.54      0.48      0.49        75\n",
      "weighted avg       0.69      0.72      0.69        75\n",
      "\n"
     ]
    },
    {
     "name": "stderr",
     "output_type": "stream",
     "text": [
      "C:\\ProgramData\\Anaconda3\\lib\\site-packages\\sklearn\\metrics\\_classification.py:1248: UndefinedMetricWarning: Precision and F-score are ill-defined and being set to 0.0 in labels with no predicted samples. Use `zero_division` parameter to control this behavior.\n",
      "  _warn_prf(average, modifier, msg_start, len(result))\n",
      "C:\\ProgramData\\Anaconda3\\lib\\site-packages\\sklearn\\metrics\\_classification.py:1248: UndefinedMetricWarning: Precision and F-score are ill-defined and being set to 0.0 in labels with no predicted samples. Use `zero_division` parameter to control this behavior.\n",
      "  _warn_prf(average, modifier, msg_start, len(result))\n",
      "C:\\ProgramData\\Anaconda3\\lib\\site-packages\\sklearn\\metrics\\_classification.py:1248: UndefinedMetricWarning: Precision and F-score are ill-defined and being set to 0.0 in labels with no predicted samples. Use `zero_division` parameter to control this behavior.\n",
      "  _warn_prf(average, modifier, msg_start, len(result))\n"
     ]
    }
   ],
   "source": [
    "print(classification_report(y_test, y_pred))"
   ]
  },
  {
   "cell_type": "code",
   "execution_count": 19,
   "id": "47a68932",
   "metadata": {},
   "outputs": [
    {
     "data": {
      "text/plain": [
       "array([[0.60795483, 0.1842885 , 0.07539727, 0.1323594 ],\n",
       "       [0.24122689, 0.60286084, 0.0636513 , 0.09226097],\n",
       "       [0.39842586, 0.45245831, 0.04917685, 0.09993898],\n",
       "       [0.35756469, 0.19966334, 0.08322055, 0.35955143],\n",
       "       [0.40992073, 0.41304984, 0.05143812, 0.1255913 ],\n",
       "       [0.46650948, 0.3671678 , 0.06346264, 0.10286009],\n",
       "       [0.59330223, 0.19312489, 0.07751941, 0.13605347],\n",
       "       [0.45080125, 0.38701966, 0.06804587, 0.09413322],\n",
       "       [0.52181535, 0.20766175, 0.08681401, 0.18370889],\n",
       "       [0.6784937 , 0.13654459, 0.07541287, 0.10954884],\n",
       "       [0.61943342, 0.18659227, 0.0776638 , 0.1163105 ],\n",
       "       [0.57845685, 0.15395656, 0.07846657, 0.18912001],\n",
       "       [0.43570744, 0.39074919, 0.05195838, 0.12158499],\n",
       "       [0.64321093, 0.14213944, 0.06685001, 0.14779962],\n",
       "       [0.43348286, 0.38738909, 0.05269365, 0.1264344 ],\n",
       "       [0.23937692, 0.60795017, 0.06240003, 0.09027288],\n",
       "       [0.70140211, 0.13047914, 0.06403559, 0.10408316],\n",
       "       [0.3471045 , 0.46284684, 0.07048091, 0.11956776],\n",
       "       [0.39152578, 0.45283932, 0.05004003, 0.10559488],\n",
       "       [0.35886865, 0.44171146, 0.073338  , 0.12608189],\n",
       "       [0.3750173 , 0.15755787, 0.08427089, 0.38315394],\n",
       "       [0.37395924, 0.4477674 , 0.05481177, 0.12346158],\n",
       "       [0.63639063, 0.16477665, 0.06923582, 0.12959691],\n",
       "       [0.30758788, 0.53825906, 0.05963106, 0.09452199],\n",
       "       [0.3284988 , 0.50547917, 0.07175342, 0.09426861],\n",
       "       [0.6710303 , 0.13394689, 0.08442912, 0.11059369],\n",
       "       [0.64100798, 0.1540588 , 0.10444705, 0.10048617],\n",
       "       [0.41439246, 0.43701349, 0.04887949, 0.09971455],\n",
       "       [0.48645189, 0.17584712, 0.07548599, 0.262215  ],\n",
       "       [0.44541092, 0.12524608, 0.06121528, 0.36812773],\n",
       "       [0.69094408, 0.11060226, 0.08397736, 0.11447631],\n",
       "       [0.51168486, 0.31691401, 0.07417291, 0.09722822],\n",
       "       [0.41928628, 0.40422811, 0.05742703, 0.11905857],\n",
       "       [0.23328358, 0.61702537, 0.06221798, 0.08747307],\n",
       "       [0.64371951, 0.16171131, 0.07419834, 0.12037084],\n",
       "       [0.5916011 , 0.20021824, 0.08575403, 0.12242662],\n",
       "       [0.57679543, 0.20052731, 0.07420069, 0.14847658],\n",
       "       [0.6494696 , 0.13636352, 0.08639019, 0.12777669],\n",
       "       [0.66067608, 0.12623268, 0.10708177, 0.10600948],\n",
       "       [0.50616645, 0.21123231, 0.08467409, 0.19792714],\n",
       "       [0.47921997, 0.12128778, 0.06610484, 0.33338741],\n",
       "       [0.50104117, 0.16038543, 0.09053897, 0.24803444],\n",
       "       [0.4151869 , 0.41408964, 0.05372556, 0.11699791],\n",
       "       [0.56145   , 0.24030785, 0.07647165, 0.1217705 ],\n",
       "       [0.41268638, 0.44291796, 0.04674303, 0.09765263],\n",
       "       [0.59926403, 0.20309114, 0.07469937, 0.12294546],\n",
       "       [0.61635074, 0.20141236, 0.07760207, 0.10463483],\n",
       "       [0.65799236, 0.15445034, 0.07299522, 0.11456208],\n",
       "       [0.40992617, 0.43242173, 0.05158469, 0.10606741],\n",
       "       [0.38706843, 0.46297004, 0.04938935, 0.10057218],\n",
       "       [0.65978929, 0.14118192, 0.0921695 , 0.10685929],\n",
       "       [0.41761487, 0.39565014, 0.05707865, 0.12965634],\n",
       "       [0.67412587, 0.1201633 , 0.08335268, 0.12235816],\n",
       "       [0.55893788, 0.25092322, 0.0755202 , 0.1146187 ],\n",
       "       [0.2939366 , 0.56685417, 0.0533593 , 0.08584993],\n",
       "       [0.42360676, 0.11237183, 0.06401989, 0.40000152],\n",
       "       [0.56990581, 0.18787437, 0.07854652, 0.16367329],\n",
       "       [0.46776804, 0.36130339, 0.05826905, 0.11265951],\n",
       "       [0.6476866 , 0.15152106, 0.07937222, 0.12142012],\n",
       "       [0.2897961 , 0.52380722, 0.06740144, 0.11899525],\n",
       "       [0.41038249, 0.44408061, 0.04782894, 0.09770796],\n",
       "       [0.36801399, 0.48544332, 0.05265368, 0.09388901],\n",
       "       [0.48829551, 0.12905868, 0.07588339, 0.30676242],\n",
       "       [0.59119741, 0.2182077 , 0.07186287, 0.11873203],\n",
       "       [0.33587063, 0.16093205, 0.09299778, 0.41019954],\n",
       "       [0.38487298, 0.46379594, 0.04880945, 0.10252163],\n",
       "       [0.37852795, 0.10078304, 0.05771337, 0.46297564],\n",
       "       [0.5404759 , 0.25837381, 0.06445957, 0.13669072],\n",
       "       [0.55806899, 0.25779429, 0.07199311, 0.11214361],\n",
       "       [0.61405123, 0.15793825, 0.06573354, 0.16227697],\n",
       "       [0.38693198, 0.44479201, 0.06056708, 0.10770892],\n",
       "       [0.58905045, 0.1430938 , 0.08169467, 0.18616109],\n",
       "       [0.6852849 , 0.12282004, 0.0817015 , 0.11019356],\n",
       "       [0.52365557, 0.15036048, 0.07049796, 0.25548599],\n",
       "       [0.61249014, 0.15902053, 0.06556849, 0.16292084]])"
      ]
     },
     "execution_count": 19,
     "metadata": {},
     "output_type": "execute_result"
    }
   ],
   "source": [
    "y_pred = model.predict_proba(X_test)\n",
    "y_pred"
   ]
  },
  {
   "cell_type": "code",
   "execution_count": 20,
   "id": "b4a01aae",
   "metadata": {},
   "outputs": [
    {
     "data": {
      "text/plain": [
       "array(['INSULT', 'NORMAL', 'NORMAL', 'THREAT', 'NORMAL', 'INSULT',\n",
       "       'INSULT', 'INSULT', 'INSULT', 'INSULT', 'INSULT', 'INSULT',\n",
       "       'INSULT', 'INSULT', 'INSULT', 'NORMAL', 'INSULT', 'NORMAL',\n",
       "       'NORMAL', 'NORMAL', 'THREAT', 'NORMAL', 'INSULT', 'NORMAL',\n",
       "       'NORMAL', 'INSULT', 'INSULT', 'NORMAL', 'INSULT', 'INSULT',\n",
       "       'INSULT', 'INSULT', 'INSULT', 'NORMAL', 'INSULT', 'INSULT',\n",
       "       'INSULT', 'INSULT', 'INSULT', 'INSULT', 'INSULT', 'INSULT',\n",
       "       'INSULT', 'INSULT', 'NORMAL', 'INSULT', 'INSULT', 'INSULT',\n",
       "       'NORMAL', 'NORMAL', 'INSULT', 'INSULT', 'INSULT', 'INSULT',\n",
       "       'NORMAL', 'INSULT', 'INSULT', 'INSULT', 'INSULT', 'NORMAL',\n",
       "       'NORMAL', 'NORMAL', 'INSULT', 'INSULT', 'THREAT', 'NORMAL',\n",
       "       'THREAT', 'INSULT', 'INSULT', 'INSULT', 'NORMAL', 'INSULT',\n",
       "       'INSULT', 'INSULT', 'INSULT'], dtype=object)"
      ]
     },
     "execution_count": 20,
     "metadata": {},
     "output_type": "execute_result"
    }
   ],
   "source": [
    "y_pred_=model.predict(X_test).flatten()\n",
    "y_pred_"
   ]
  },
  {
   "cell_type": "code",
   "execution_count": 21,
   "id": "fef2ab73",
   "metadata": {},
   "outputs": [
    {
     "data": {
      "text/plain": [
       "array([0.60795483, 0.60286084, 0.45245831, 0.35955143, 0.41304984,\n",
       "       0.46650948, 0.59330223, 0.45080125, 0.52181535, 0.6784937 ,\n",
       "       0.61943342, 0.57845685, 0.43570744, 0.64321093, 0.43348286,\n",
       "       0.60795017, 0.70140211, 0.46284684, 0.45283932, 0.44171146,\n",
       "       0.38315394, 0.4477674 , 0.63639063, 0.53825906, 0.50547917,\n",
       "       0.6710303 , 0.64100798, 0.43701349, 0.48645189, 0.44541092,\n",
       "       0.69094408, 0.51168486, 0.41928628, 0.61702537, 0.64371951,\n",
       "       0.5916011 , 0.57679543, 0.6494696 , 0.66067608, 0.50616645,\n",
       "       0.47921997, 0.50104117, 0.4151869 , 0.56145   , 0.44291796,\n",
       "       0.59926403, 0.61635074, 0.65799236, 0.43242173, 0.46297004,\n",
       "       0.65978929, 0.41761487, 0.67412587, 0.55893788, 0.56685417,\n",
       "       0.42360676, 0.56990581, 0.46776804, 0.6476866 , 0.52380722,\n",
       "       0.44408061, 0.48544332, 0.48829551, 0.59119741, 0.41019954,\n",
       "       0.46379594, 0.46297564, 0.5404759 , 0.55806899, 0.61405123,\n",
       "       0.44479201, 0.58905045, 0.6852849 , 0.52365557, 0.61249014])"
      ]
     },
     "execution_count": 21,
     "metadata": {},
     "output_type": "execute_result"
    }
   ],
   "source": [
    "np.max(y_pred,axis=1)"
   ]
  },
  {
   "cell_type": "code",
   "execution_count": 22,
   "id": "77e1e66f",
   "metadata": {},
   "outputs": [
    {
     "name": "stderr",
     "output_type": "stream",
     "text": [
      "<ipython-input-22-b72b563b90c7>:2: SettingWithCopyWarning: \n",
      "A value is trying to be set on a copy of a slice from a DataFrame.\n",
      "Try using .loc[row_indexer,col_indexer] = value instead\n",
      "\n",
      "See the caveats in the documentation: https://pandas.pydata.org/pandas-docs/stable/user_guide/indexing.html#returning-a-view-versus-a-copy\n",
      "  data_test['TARGET']=y_test\n",
      "<ipython-input-22-b72b563b90c7>:3: SettingWithCopyWarning: \n",
      "A value is trying to be set on a copy of a slice from a DataFrame.\n",
      "Try using .loc[row_indexer,col_indexer] = value instead\n",
      "\n",
      "See the caveats in the documentation: https://pandas.pydata.org/pandas-docs/stable/user_guide/indexing.html#returning-a-view-versus-a-copy\n",
      "  data_test['proba']=np.max(y_pred,axis=1)\n",
      "<ipython-input-22-b72b563b90c7>:4: SettingWithCopyWarning: \n",
      "A value is trying to be set on a copy of a slice from a DataFrame.\n",
      "Try using .loc[row_indexer,col_indexer] = value instead\n",
      "\n",
      "See the caveats in the documentation: https://pandas.pydata.org/pandas-docs/stable/user_guide/indexing.html#returning-a-view-versus-a-copy\n",
      "  data_test['PRED']=y_pred_\n"
     ]
    },
    {
     "data": {
      "text/html": [
       "<div>\n",
       "<style scoped>\n",
       "    .dataframe tbody tr th:only-of-type {\n",
       "        vertical-align: middle;\n",
       "    }\n",
       "\n",
       "    .dataframe tbody tr th {\n",
       "        vertical-align: top;\n",
       "    }\n",
       "\n",
       "    .dataframe thead th {\n",
       "        text-align: right;\n",
       "    }\n",
       "</style>\n",
       "<table border=\"1\" class=\"dataframe\">\n",
       "  <thead>\n",
       "    <tr style=\"text-align: right;\">\n",
       "      <th></th>\n",
       "      <th>TEXT</th>\n",
       "      <th>VIP</th>\n",
       "      <th>LOL</th>\n",
       "      <th>ABC</th>\n",
       "      <th>TARGET</th>\n",
       "      <th>proba</th>\n",
       "      <th>PRED</th>\n",
       "    </tr>\n",
       "  </thead>\n",
       "  <tbody>\n",
       "    <tr>\n",
       "      <th>18670</th>\n",
       "      <td>пойти он на хуй пиздобол охуесть</td>\n",
       "      <td>3</td>\n",
       "      <td>9</td>\n",
       "      <td>3</td>\n",
       "      <td>INSULT</td>\n",
       "      <td>0.607955</td>\n",
       "      <td>INSULT</td>\n",
       "    </tr>\n",
       "    <tr>\n",
       "      <th>64074</th>\n",
       "      <td>с праздник железнодорожник весь добро и здоро...</td>\n",
       "      <td>3</td>\n",
       "      <td>14</td>\n",
       "      <td>2</td>\n",
       "      <td>NORMAL</td>\n",
       "      <td>0.602861</td>\n",
       "      <td>NORMAL</td>\n",
       "    </tr>\n",
       "    <tr>\n",
       "      <th>27154</th>\n",
       "      <td>вырвать всё причендал</td>\n",
       "      <td>0</td>\n",
       "      <td>0</td>\n",
       "      <td>4</td>\n",
       "      <td>THREAT</td>\n",
       "      <td>0.452458</td>\n",
       "      <td>NORMAL</td>\n",
       "    </tr>\n",
       "    <tr>\n",
       "      <th>19033</th>\n",
       "      <td>букварь сначала выучить пысара за твой писанин...</td>\n",
       "      <td>1</td>\n",
       "      <td>10</td>\n",
       "      <td>0</td>\n",
       "      <td>THREAT</td>\n",
       "      <td>0.359551</td>\n",
       "      <td>THREAT</td>\n",
       "    </tr>\n",
       "    <tr>\n",
       "      <th>36866</th>\n",
       "      <td>рожа мерзопакостный крысиный глаз и вообще это...</td>\n",
       "      <td>2</td>\n",
       "      <td>2</td>\n",
       "      <td>4</td>\n",
       "      <td>INSULT</td>\n",
       "      <td>0.413050</td>\n",
       "      <td>NORMAL</td>\n",
       "    </tr>\n",
       "    <tr>\n",
       "      <th>...</th>\n",
       "      <td>...</td>\n",
       "      <td>...</td>\n",
       "      <td>...</td>\n",
       "      <td>...</td>\n",
       "      <td>...</td>\n",
       "      <td>...</td>\n",
       "      <td>...</td>\n",
       "    </tr>\n",
       "    <tr>\n",
       "      <th>37670</th>\n",
       "      <td>сейчас через интернет большой шанс что то здет...</td>\n",
       "      <td>2</td>\n",
       "      <td>19</td>\n",
       "      <td>7</td>\n",
       "      <td>INSULT</td>\n",
       "      <td>0.444792</td>\n",
       "      <td>NORMAL</td>\n",
       "    </tr>\n",
       "    <tr>\n",
       "      <th>37565</th>\n",
       "      <td>нечего себя один тварь вокруг палцо крутиль че...</td>\n",
       "      <td>3</td>\n",
       "      <td>12</td>\n",
       "      <td>0</td>\n",
       "      <td>INSULT</td>\n",
       "      <td>0.589050</td>\n",
       "      <td>INSULT</td>\n",
       "    </tr>\n",
       "    <tr>\n",
       "      <th>25035</th>\n",
       "      <td>я ты сука не только б член отрезать за лугандон</td>\n",
       "      <td>3</td>\n",
       "      <td>1</td>\n",
       "      <td>5</td>\n",
       "      <td>INSULT</td>\n",
       "      <td>0.685285</td>\n",
       "      <td>INSULT</td>\n",
       "    </tr>\n",
       "    <tr>\n",
       "      <th>40363</th>\n",
       "      <td>бля это бред посадить нахуй</td>\n",
       "      <td>1</td>\n",
       "      <td>1</td>\n",
       "      <td>5</td>\n",
       "      <td>INSULT</td>\n",
       "      <td>0.523656</td>\n",
       "      <td>INSULT</td>\n",
       "    </tr>\n",
       "    <tr>\n",
       "      <th>46250</th>\n",
       "      <td>урод ебучий тварь</td>\n",
       "      <td>2</td>\n",
       "      <td>6</td>\n",
       "      <td>8</td>\n",
       "      <td>INSULT</td>\n",
       "      <td>0.612490</td>\n",
       "      <td>INSULT</td>\n",
       "    </tr>\n",
       "  </tbody>\n",
       "</table>\n",
       "<p>75 rows × 7 columns</p>\n",
       "</div>"
      ],
      "text/plain": [
       "                                                    TEXT VIP LOL  ABC  TARGET  \\\n",
       "18670                  пойти он на хуй пиздобол охуесть    3   9    3  INSULT   \n",
       "64074   с праздник железнодорожник весь добро и здоро...   3  14    2  NORMAL   \n",
       "27154                             вырвать всё причендал    0   0    4  THREAT   \n",
       "19033  букварь сначала выучить пысара за твой писанин...   1  10    0  THREAT   \n",
       "36866  рожа мерзопакостный крысиный глаз и вообще это...   2   2    4  INSULT   \n",
       "...                                                  ...  ..  ..  ...     ...   \n",
       "37670  сейчас через интернет большой шанс что то здет...   2  19    7  INSULT   \n",
       "37565  нечего себя один тварь вокруг палцо крутиль че...   3  12    0  INSULT   \n",
       "25035   я ты сука не только б член отрезать за лугандон    3   1    5  INSULT   \n",
       "40363                       бля это бред посадить нахуй    1   1    5  INSULT   \n",
       "46250                                  урод ебучий тварь   2   6    8  INSULT   \n",
       "\n",
       "          proba    PRED  \n",
       "18670  0.607955  INSULT  \n",
       "64074  0.602861  NORMAL  \n",
       "27154  0.452458  NORMAL  \n",
       "19033  0.359551  THREAT  \n",
       "36866  0.413050  NORMAL  \n",
       "...         ...     ...  \n",
       "37670  0.444792  NORMAL  \n",
       "37565  0.589050  INSULT  \n",
       "25035  0.685285  INSULT  \n",
       "40363  0.523656  INSULT  \n",
       "46250  0.612490  INSULT  \n",
       "\n",
       "[75 rows x 7 columns]"
      ]
     },
     "execution_count": 22,
     "metadata": {},
     "output_type": "execute_result"
    }
   ],
   "source": [
    "data_test= X_test\n",
    "data_test['TARGET']=y_test\n",
    "data_test['proba']=np.max(y_pred,axis=1)\n",
    "data_test['PRED']=y_pred_\n",
    "data_test"
   ]
  },
  {
   "cell_type": "code",
   "execution_count": 23,
   "id": "f8df1f1a",
   "metadata": {},
   "outputs": [
    {
     "data": {
      "text/plain": [
       "0.8181818181818182"
      ]
     },
     "execution_count": 23,
     "metadata": {},
     "output_type": "execute_result"
    }
   ],
   "source": [
    "data_test[(data_test['proba']>0.5) & (data_test['PRED']==data_test['TARGET'])].shape[0]/data_test[(data_test['proba']>0.5) ].shape[0]"
   ]
  },
  {
   "cell_type": "code",
   "execution_count": 24,
   "id": "ee0c92a3",
   "metadata": {},
   "outputs": [
    {
     "data": {
      "text/plain": [
       "0.9130434782608695"
      ]
     },
     "execution_count": 24,
     "metadata": {},
     "output_type": "execute_result"
    }
   ],
   "source": [
    "data_test[(data_test['proba']>0.6) & (data_test['PRED']==data_test['TARGET'])].shape[0]/data_test[(data_test['proba']>0.6) ].shape[0]"
   ]
  },
  {
   "cell_type": "code",
   "execution_count": 25,
   "id": "33215001",
   "metadata": {},
   "outputs": [
    {
     "data": {
      "text/plain": [
       "1.0"
      ]
     },
     "execution_count": 25,
     "metadata": {},
     "output_type": "execute_result"
    }
   ],
   "source": [
    "data_test[(data_test['proba']>0.7) & (data_test['PRED']==data_test['TARGET'])].shape[0]/data_test[(data_test['proba']>0.7) ].shape[0]"
   ]
  },
  {
   "cell_type": "code",
   "execution_count": 26,
   "id": "3282efa3",
   "metadata": {},
   "outputs": [
    {
     "ename": "ZeroDivisionError",
     "evalue": "division by zero",
     "output_type": "error",
     "traceback": [
      "\u001b[1;31m---------------------------------------------------------------------------\u001b[0m",
      "\u001b[1;31mZeroDivisionError\u001b[0m                         Traceback (most recent call last)",
      "\u001b[1;32m<ipython-input-26-30756485cbe5>\u001b[0m in \u001b[0;36m<module>\u001b[1;34m\u001b[0m\n\u001b[1;32m----> 1\u001b[1;33m \u001b[0mdata_test\u001b[0m\u001b[1;33m[\u001b[0m\u001b[1;33m(\u001b[0m\u001b[0mdata_test\u001b[0m\u001b[1;33m[\u001b[0m\u001b[1;34m'proba'\u001b[0m\u001b[1;33m]\u001b[0m\u001b[1;33m>\u001b[0m\u001b[1;36m0.8\u001b[0m\u001b[1;33m)\u001b[0m \u001b[1;33m&\u001b[0m \u001b[1;33m(\u001b[0m\u001b[0mdata_test\u001b[0m\u001b[1;33m[\u001b[0m\u001b[1;34m'PRED'\u001b[0m\u001b[1;33m]\u001b[0m\u001b[1;33m==\u001b[0m\u001b[0mdata_test\u001b[0m\u001b[1;33m[\u001b[0m\u001b[1;34m'TARGET'\u001b[0m\u001b[1;33m]\u001b[0m\u001b[1;33m)\u001b[0m\u001b[1;33m]\u001b[0m\u001b[1;33m.\u001b[0m\u001b[0mshape\u001b[0m\u001b[1;33m[\u001b[0m\u001b[1;36m0\u001b[0m\u001b[1;33m]\u001b[0m\u001b[1;33m/\u001b[0m\u001b[0mdata_test\u001b[0m\u001b[1;33m[\u001b[0m\u001b[1;33m(\u001b[0m\u001b[0mdata_test\u001b[0m\u001b[1;33m[\u001b[0m\u001b[1;34m'proba'\u001b[0m\u001b[1;33m]\u001b[0m\u001b[1;33m>\u001b[0m\u001b[1;36m0.8\u001b[0m\u001b[1;33m)\u001b[0m \u001b[1;33m]\u001b[0m\u001b[1;33m.\u001b[0m\u001b[0mshape\u001b[0m\u001b[1;33m[\u001b[0m\u001b[1;36m0\u001b[0m\u001b[1;33m]\u001b[0m\u001b[1;33m\u001b[0m\u001b[1;33m\u001b[0m\u001b[0m\n\u001b[0m",
      "\u001b[1;31mZeroDivisionError\u001b[0m: division by zero"
     ]
    }
   ],
   "source": [
    "data_test[(data_test['proba']>0.8) & (data_test['PRED']==data_test['TARGET'])].shape[0]/data_test[(data_test['proba']>0.8) ].shape[0]"
   ]
  },
  {
   "cell_type": "code",
   "execution_count": 27,
   "id": "91a7b5a6",
   "metadata": {},
   "outputs": [
    {
     "ename": "ZeroDivisionError",
     "evalue": "division by zero",
     "output_type": "error",
     "traceback": [
      "\u001b[1;31m---------------------------------------------------------------------------\u001b[0m",
      "\u001b[1;31mZeroDivisionError\u001b[0m                         Traceback (most recent call last)",
      "\u001b[1;32m<ipython-input-27-bc5026606b85>\u001b[0m in \u001b[0;36m<module>\u001b[1;34m\u001b[0m\n\u001b[1;32m----> 1\u001b[1;33m \u001b[0mdata_test\u001b[0m\u001b[1;33m[\u001b[0m\u001b[1;33m(\u001b[0m\u001b[0mdata_test\u001b[0m\u001b[1;33m[\u001b[0m\u001b[1;34m'proba'\u001b[0m\u001b[1;33m]\u001b[0m\u001b[1;33m>\u001b[0m\u001b[1;36m0.9\u001b[0m\u001b[1;33m)\u001b[0m \u001b[1;33m&\u001b[0m \u001b[1;33m(\u001b[0m\u001b[0mdata_test\u001b[0m\u001b[1;33m[\u001b[0m\u001b[1;34m'PRED'\u001b[0m\u001b[1;33m]\u001b[0m\u001b[1;33m==\u001b[0m\u001b[0mdata_test\u001b[0m\u001b[1;33m[\u001b[0m\u001b[1;34m'TARGET'\u001b[0m\u001b[1;33m]\u001b[0m\u001b[1;33m)\u001b[0m\u001b[1;33m]\u001b[0m\u001b[1;33m.\u001b[0m\u001b[0mshape\u001b[0m\u001b[1;33m[\u001b[0m\u001b[1;36m0\u001b[0m\u001b[1;33m]\u001b[0m\u001b[1;33m/\u001b[0m\u001b[0mdata_test\u001b[0m\u001b[1;33m[\u001b[0m\u001b[1;33m(\u001b[0m\u001b[0mdata_test\u001b[0m\u001b[1;33m[\u001b[0m\u001b[1;34m'proba'\u001b[0m\u001b[1;33m]\u001b[0m\u001b[1;33m>\u001b[0m\u001b[1;36m0.9\u001b[0m\u001b[1;33m)\u001b[0m \u001b[1;33m]\u001b[0m\u001b[1;33m.\u001b[0m\u001b[0mshape\u001b[0m\u001b[1;33m[\u001b[0m\u001b[1;36m0\u001b[0m\u001b[1;33m]\u001b[0m\u001b[1;33m\u001b[0m\u001b[1;33m\u001b[0m\u001b[0m\n\u001b[0m",
      "\u001b[1;31mZeroDivisionError\u001b[0m: division by zero"
     ]
    }
   ],
   "source": [
    "data_test[(data_test['proba']>0.9) & (data_test['PRED']==data_test['TARGET'])].shape[0]/data_test[(data_test['proba']>0.9) ].shape[0]"
   ]
  },
  {
   "cell_type": "code",
   "execution_count": 28,
   "id": "fca23a7c",
   "metadata": {},
   "outputs": [
    {
     "ename": "ZeroDivisionError",
     "evalue": "division by zero",
     "output_type": "error",
     "traceback": [
      "\u001b[1;31m---------------------------------------------------------------------------\u001b[0m",
      "\u001b[1;31mZeroDivisionError\u001b[0m                         Traceback (most recent call last)",
      "\u001b[1;32m<ipython-input-28-6567bc2de8bf>\u001b[0m in \u001b[0;36m<module>\u001b[1;34m\u001b[0m\n\u001b[1;32m----> 1\u001b[1;33m \u001b[0mdata_test\u001b[0m\u001b[1;33m[\u001b[0m\u001b[1;33m(\u001b[0m\u001b[0mdata_test\u001b[0m\u001b[1;33m[\u001b[0m\u001b[1;34m'proba'\u001b[0m\u001b[1;33m]\u001b[0m\u001b[1;33m>\u001b[0m\u001b[1;36m0.95\u001b[0m\u001b[1;33m)\u001b[0m \u001b[1;33m&\u001b[0m \u001b[1;33m(\u001b[0m\u001b[0mdata_test\u001b[0m\u001b[1;33m[\u001b[0m\u001b[1;34m'PRED'\u001b[0m\u001b[1;33m]\u001b[0m\u001b[1;33m==\u001b[0m\u001b[0mdata_test\u001b[0m\u001b[1;33m[\u001b[0m\u001b[1;34m'TARGET'\u001b[0m\u001b[1;33m]\u001b[0m\u001b[1;33m)\u001b[0m\u001b[1;33m]\u001b[0m\u001b[1;33m.\u001b[0m\u001b[0mshape\u001b[0m\u001b[1;33m[\u001b[0m\u001b[1;36m0\u001b[0m\u001b[1;33m]\u001b[0m\u001b[1;33m/\u001b[0m\u001b[0mdata_test\u001b[0m\u001b[1;33m[\u001b[0m\u001b[1;33m(\u001b[0m\u001b[0mdata_test\u001b[0m\u001b[1;33m[\u001b[0m\u001b[1;34m'proba'\u001b[0m\u001b[1;33m]\u001b[0m\u001b[1;33m>\u001b[0m\u001b[1;36m0.95\u001b[0m\u001b[1;33m)\u001b[0m \u001b[1;33m]\u001b[0m\u001b[1;33m.\u001b[0m\u001b[0mshape\u001b[0m\u001b[1;33m[\u001b[0m\u001b[1;36m0\u001b[0m\u001b[1;33m]\u001b[0m\u001b[1;33m\u001b[0m\u001b[1;33m\u001b[0m\u001b[0m\n\u001b[0m",
      "\u001b[1;31mZeroDivisionError\u001b[0m: division by zero"
     ]
    }
   ],
   "source": [
    "data_test[(data_test['proba']>0.95) & (data_test['PRED']==data_test['TARGET'])].shape[0]/data_test[(data_test['proba']>0.95) ].shape[0]"
   ]
  },
  {
   "cell_type": "code",
   "execution_count": null,
   "id": "a320c01f",
   "metadata": {},
   "outputs": [],
   "source": []
  }
 ],
 "metadata": {
  "kernelspec": {
   "display_name": "Python 3",
   "language": "python",
   "name": "python3"
  },
  "language_info": {
   "codemirror_mode": {
    "name": "ipython",
    "version": 3
   },
   "file_extension": ".py",
   "mimetype": "text/x-python",
   "name": "python",
   "nbconvert_exporter": "python",
   "pygments_lexer": "ipython3",
   "version": "3.8.10"
  }
 },
 "nbformat": 4,
 "nbformat_minor": 5
}

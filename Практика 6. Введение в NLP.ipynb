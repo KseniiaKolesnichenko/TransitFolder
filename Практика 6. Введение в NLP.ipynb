{
 "cells": [
  {
   "cell_type": "markdown",
   "metadata": {},
   "source": [
    "# Практика 6. Введение в обработку естественного языка"
   ]
  },
  {
   "cell_type": "code",
   "execution_count": 306,
   "metadata": {},
   "outputs": [],
   "source": [
    "#!pip install pymorphy2\n",
    "#!pip install nltk"
   ]
  },
  {
   "cell_type": "code",
   "execution_count": 359,
   "metadata": {
    "colab": {
     "base_uri": "https://localhost:8080/",
     "height": 34
    },
    "id": "fN251ib04idq",
    "outputId": "44c84a29-8a03-46f7-96fa-50d6bd179009"
   },
   "outputs": [
    {
     "name": "stderr",
     "output_type": "stream",
     "text": [
      "[nltk_data] Downloading package stopwords to\n",
      "[nltk_data]     C:\\Users\\Andrey\\AppData\\Roaming\\nltk_data...\n",
      "[nltk_data]   Package stopwords is already up-to-date!\n"
     ]
    }
   ],
   "source": [
    "# NLP библиотеки для предобработки текста\n",
    "import re\n",
    "from pymorphy2 import MorphAnalyzer\n",
    "import nltk\n",
    "nltk.download('stopwords')\n",
    "from nltk.corpus import stopwords\n",
    "from nltk.stem import WordNetLemmatizer\n",
    "\n",
    "# Библиотеки для анализа данных\n",
    "import pandas as pd\n",
    "import numpy as np\n",
    "import matplotlib.pyplot as plt\n",
    "from sklearn import model_selection\n",
    "\n",
    "# Библиотеки для глубокого обучения\n",
    "import tensorflow as tf\n",
    "from tensorflow.keras import models\n",
    "from tensorflow.keras import layers\n",
    "from tensorflow.keras import utils\n",
    "from tensorflow.keras import callbacks\n",
    "from tensorflow.keras import optimizers\n",
    "\n",
    "# Инструменты для работы с текстом и последовательностью в Keras\n",
    "from tensorflow.keras.preprocessing.sequence import pad_sequences\n",
    "from tensorflow.keras.preprocessing.text import Tokenizer\n",
    "\n",
    "%matplotlib inline "
   ]
  },
  {
   "cell_type": "code",
   "execution_count": 360,
   "metadata": {},
   "outputs": [],
   "source": [
    "# устанавливаем генератор случайных чисел\n",
    "tf.random.set_seed(0)"
   ]
  },
  {
   "cell_type": "markdown",
   "metadata": {},
   "source": [
    "## 1. Предобработка данных"
   ]
  },
  {
   "cell_type": "markdown",
   "metadata": {
    "id": "S6itvI2G5H1k"
   },
   "source": [
    "### Загрузка набора данных"
   ]
  },
  {
   "cell_type": "markdown",
   "metadata": {},
   "source": [
    "Оригинальный источник данных: https://www.kaggle.com/datasets/blackmoon/russian-language-toxic-comments"
   ]
  },
  {
   "cell_type": "code",
   "execution_count": 203,
   "metadata": {},
   "outputs": [
    {
     "data": {
      "text/html": [
       "<div>\n",
       "<style scoped>\n",
       "    .dataframe tbody tr th:only-of-type {\n",
       "        vertical-align: middle;\n",
       "    }\n",
       "\n",
       "    .dataframe tbody tr th {\n",
       "        vertical-align: top;\n",
       "    }\n",
       "\n",
       "    .dataframe thead th {\n",
       "        text-align: right;\n",
       "    }\n",
       "</style>\n",
       "<table border=\"1\" class=\"dataframe\">\n",
       "  <thead>\n",
       "    <tr style=\"text-align: right;\">\n",
       "      <th></th>\n",
       "      <th>comment</th>\n",
       "      <th>toxic</th>\n",
       "    </tr>\n",
       "  </thead>\n",
       "  <tbody>\n",
       "    <tr>\n",
       "      <th>0</th>\n",
       "      <td>Верблюдов-то за что? Дебилы, бл...\\n</td>\n",
       "      <td>1.0</td>\n",
       "    </tr>\n",
       "    <tr>\n",
       "      <th>1</th>\n",
       "      <td>Хохлы, это отдушина затюканого россиянина, мол...</td>\n",
       "      <td>1.0</td>\n",
       "    </tr>\n",
       "    <tr>\n",
       "      <th>2</th>\n",
       "      <td>Собаке - собачья смерть\\n</td>\n",
       "      <td>1.0</td>\n",
       "    </tr>\n",
       "    <tr>\n",
       "      <th>3</th>\n",
       "      <td>Страницу обнови, дебил. Это тоже не оскорблени...</td>\n",
       "      <td>1.0</td>\n",
       "    </tr>\n",
       "    <tr>\n",
       "      <th>4</th>\n",
       "      <td>тебя не убедил 6-страничный пдф в том, что Скр...</td>\n",
       "      <td>1.0</td>\n",
       "    </tr>\n",
       "  </tbody>\n",
       "</table>\n",
       "</div>"
      ],
      "text/plain": [
       "                                             comment  toxic\n",
       "0               Верблюдов-то за что? Дебилы, бл...\\n    1.0\n",
       "1  Хохлы, это отдушина затюканого россиянина, мол...    1.0\n",
       "2                          Собаке - собачья смерть\\n    1.0\n",
       "3  Страницу обнови, дебил. Это тоже не оскорблени...    1.0\n",
       "4  тебя не убедил 6-страничный пдф в том, что Скр...    1.0"
      ]
     },
     "execution_count": 203,
     "metadata": {},
     "output_type": "execute_result"
    }
   ],
   "source": [
    "comments_data = pd.read_csv('data/labeled.csv')\n",
    "comments_data.head()"
   ]
  },
  {
   "cell_type": "markdown",
   "metadata": {
    "tags": []
   },
   "source": [
    "### Предобработка текста (токенизация, лемматизация и удаление стоп-слов)"
   ]
  },
  {
   "cell_type": "markdown",
   "metadata": {},
   "source": [
    "На этом этапе мы совершаем все шаги очистки и предварительной обработки данных, которые были описаны ранее. Мы используем лемматизацию, а не стеммизацию, потому что в процессе тестирования результатов обоих случаев лемматизация дает лучшие результаты, чем стеммизация."
   ]
  },
  {
   "cell_type": "code",
   "execution_count": 204,
   "metadata": {},
   "outputs": [
    {
     "data": {
      "text/plain": [
       "'тётя свет вылезти телефон'"
      ]
     },
     "execution_count": 204,
     "metadata": {},
     "output_type": "execute_result"
    }
   ],
   "source": [
    "patterns = \"[A-Za-z0-9!#$%&'()*+,./:;<=>?@[\\]^_`{|}~—\\\"\\-]+\"\n",
    "stopwords_ru = stopwords.words(\"russian\")\n",
    "morph = MorphAnalyzer()\n",
    "\n",
    "def lemmatize(doc, stopwords=stopwords_ru):\n",
    "    #исключаем символы не подходящие под патерны\n",
    "    doc = re.sub(patterns, ' ', doc)\n",
    "    tokens = []\n",
    "    for token in doc.split():\n",
    "        if token and token not in stopwords:\n",
    "            token = token.strip()\n",
    "            token = morph.normal_forms(token)[0]\n",
    "            tokens.append(token)\n",
    "    return ' '.join(tokens)\n",
    "\n",
    "# Пример предобработки текста\n",
    "simple_sentence = '#312824 Тетя Света вылези из @телефона@!!!'\n",
    "lemmatize(simple_sentence, stopwords_ru)"
   ]
  },
  {
   "cell_type": "code",
   "execution_count": 206,
   "metadata": {},
   "outputs": [
    {
     "data": {
      "text/plain": [
       "0                                         верблюд дебил бл\n",
       "1        хохол это отдушина затюканый россиянин мол вон...\n",
       "2                                    собака собачий смерть\n",
       "3        страница обновить дебил это оскорбление доказа...\n",
       "4        убедить страничный пдф скрипаль отравить росси...\n",
       "                               ...                        \n",
       "14407    вонючий совковый скот прибежать ныть а сторонн...\n",
       "14408    а кто любить гоблин тупорылый или какой продаж...\n",
       "14409    посмотреть утомлённый солнце и оказаться это х...\n",
       "14410    крымотред нарушать правило раздел так к в немо...\n",
       "14411    до сей пора пересматривать видео орамбо кстати...\n",
       "Name: processed_text, Length: 14412, dtype: object"
      ]
     },
     "execution_count": 206,
     "metadata": {},
     "output_type": "execute_result"
    }
   ],
   "source": [
    "comments_data['processed_text'] = comments_data['comment'].apply(lemmatize)\n",
    "comments_data['processed_text']"
   ]
  },
  {
   "cell_type": "code",
   "execution_count": 207,
   "metadata": {},
   "outputs": [],
   "source": [
    "text = comments_data['processed_text']\n",
    "labels = comments_data['toxic']"
   ]
  },
  {
   "cell_type": "code",
   "execution_count": 208,
   "metadata": {},
   "outputs": [],
   "source": [
    "train_text, test_text, train_labels, test_labels = model_selection.train_test_split(\n",
    "    text, labels, test_size=0.2, random_state=42\n",
    ")"
   ]
  },
  {
   "cell_type": "code",
   "execution_count": 209,
   "metadata": {},
   "outputs": [
    {
     "name": "stdout",
     "output_type": "stream",
     "text": [
      "(11529,)\n",
      "(2883,)\n"
     ]
    }
   ],
   "source": [
    "print(train_text.shape)\n",
    "print(test_text.shape)"
   ]
  },
  {
   "cell_type": "code",
   "execution_count": 212,
   "metadata": {},
   "outputs": [
    {
     "data": {
      "text/plain": [
       "6048"
      ]
     },
     "execution_count": 212,
     "metadata": {},
     "output_type": "execute_result"
    }
   ],
   "source": [
    "train_text.map(len).max()"
   ]
  },
  {
   "cell_type": "markdown",
   "metadata": {},
   "source": [
    "### Превращение текста в tfidf-матрицу"
   ]
  },
  {
   "cell_type": "markdown",
   "metadata": {},
   "source": [
    "в Keras есть замечательная утилита Tokenizer которая позволяет сделать всю предобработку буквально в пару строчек кода! Больше примеров в коде можно найти тут:\n",
    "https://machinelearningmastery.com/prepare-text-data-deep-learning-keras/"
   ]
  },
  {
   "cell_type": "code",
   "execution_count": 312,
   "metadata": {},
   "outputs": [],
   "source": [
    "vocab_size = 10000 # количество слов\n",
    "oov_tok = '<OOV>' # OOV = Out of Vocabulary"
   ]
  },
  {
   "cell_type": "code",
   "execution_count": 313,
   "metadata": {},
   "outputs": [],
   "source": [
    "# создаем токенизатор\n",
    "tokenizer = Tokenizer(\n",
    "    num_words=vocab_size, #размер словаря\n",
    "    filters='!\"#$%&()*+,-./:;<=>?@[\\\\]^_`{|}~\\t\\n•–∙—″☑️✔➥●·✅☛———————————————————————————', #фильтруем эти символы\n",
    "    lower=True, #приводим к нижнему регистру\n",
    "    oov_token=oov_tok #решаем проблему Out of Vocabulary\n",
    ")\n",
    "# обучаем токенизатор на текстах\n",
    "tokenizer.fit_on_texts(train_text)\n",
    "word_index = tokenizer.word_index"
   ]
  },
  {
   "cell_type": "code",
   "execution_count": 314,
   "metadata": {},
   "outputs": [],
   "source": [
    "# смотрим на словарь \n",
    "#word_index"
   ]
  },
  {
   "cell_type": "code",
   "execution_count": 315,
   "metadata": {},
   "outputs": [],
   "source": [
    "# создаем tfidf-матрицы из текстов\n",
    "train_matrix = tokenizer.texts_to_matrix(train_text, mode='tfidf')\n",
    "test_matrix = tokenizer.texts_to_matrix(test_text, mode='tfidf')"
   ]
  },
  {
   "cell_type": "code",
   "execution_count": 316,
   "metadata": {},
   "outputs": [],
   "source": [
    "#train_text[100]"
   ]
  },
  {
   "cell_type": "code",
   "execution_count": 317,
   "metadata": {},
   "outputs": [],
   "source": [
    "#train_matrix[100]"
   ]
  },
  {
   "cell_type": "code",
   "execution_count": 318,
   "metadata": {},
   "outputs": [
    {
     "data": {
      "text/plain": [
       "(11529, 10000)"
      ]
     },
     "execution_count": 318,
     "metadata": {},
     "output_type": "execute_result"
    }
   ],
   "source": [
    "train_matrix.shape"
   ]
  },
  {
   "cell_type": "code",
   "execution_count": 319,
   "metadata": {},
   "outputs": [
    {
     "data": {
      "text/plain": [
       "array([[ 0.        ,  0.        ,  0.        , ...,  0.        ,\n",
       "         0.        ,  0.        ],\n",
       "       [ 0.        ,  0.        ,  1.74214176, ...,  0.        ,\n",
       "         0.        ,  0.        ],\n",
       "       [ 0.        , 22.31831344,  2.9497024 , ...,  0.        ,\n",
       "         0.        ,  0.        ],\n",
       "       ...,\n",
       "       [ 0.        ,  0.        ,  0.        , ...,  0.        ,\n",
       "         0.        ,  0.        ],\n",
       "       [ 0.        ,  0.        ,  0.        , ...,  0.        ,\n",
       "         0.        ,  0.        ],\n",
       "       [ 0.        ,  0.        ,  1.74214176, ...,  0.        ,\n",
       "         0.        ,  0.        ]])"
      ]
     },
     "execution_count": 319,
     "metadata": {},
     "output_type": "execute_result"
    }
   ],
   "source": [
    "train_matrix"
   ]
  },
  {
   "cell_type": "markdown",
   "metadata": {},
   "source": [
    "## 2. Нейронные сети прямого распространения для задачи обработки текста"
   ]
  },
  {
   "cell_type": "markdown",
   "metadata": {
    "id": "ypBYfEwvO0c4",
    "tags": []
   },
   "source": [
    "### Обучаем простую нейронную сеть"
   ]
  },
  {
   "cell_type": "code",
   "execution_count": 322,
   "metadata": {},
   "outputs": [],
   "source": [
    "model = models.Sequential([\n",
    "    layers.Dense(64, activation='relu'),\n",
    "    layers.Dropout(0.5),\n",
    "    layers.BatchNormalization(),\n",
    "    layers.Dense(128, activation='relu'),\n",
    "    layers.Dropout(0.5),\n",
    "    layers.BatchNormalization(),\n",
    "    layers.Dense(64, activation='relu'),\n",
    "    layers.Dropout(0.5),\n",
    "    layers.BatchNormalization(),\n",
    "    layers.Dense(1, activation='sigmoid')\n",
    "])"
   ]
  },
  {
   "cell_type": "code",
   "execution_count": 323,
   "metadata": {},
   "outputs": [
    {
     "name": "stdout",
     "output_type": "stream",
     "text": [
      "Epoch 1/10\n",
      "361/361 - 2s - loss: 0.6845 - accuracy: 0.6223 - val_loss: 0.5043 - val_accuracy: 0.8040 - 2s/epoch - 7ms/step\n",
      "Epoch 2/10\n",
      "361/361 - 2s - loss: 0.4608 - accuracy: 0.7817 - val_loss: 0.3562 - val_accuracy: 0.8689 - 2s/epoch - 4ms/step\n",
      "Epoch 3/10\n",
      "361/361 - 2s - loss: 0.3212 - accuracy: 0.8682 - val_loss: 0.3119 - val_accuracy: 0.8765 - 2s/epoch - 4ms/step\n",
      "Epoch 4/10\n",
      "361/361 - 2s - loss: 0.2478 - accuracy: 0.9055 - val_loss: 0.3042 - val_accuracy: 0.8772 - 2s/epoch - 4ms/step\n",
      "Epoch 5/10\n",
      "361/361 - 2s - loss: 0.2022 - accuracy: 0.9261 - val_loss: 0.3095 - val_accuracy: 0.8810 - 2s/epoch - 4ms/step\n",
      "Epoch 6/10\n",
      "361/361 - 2s - loss: 0.1656 - accuracy: 0.9409 - val_loss: 0.3264 - val_accuracy: 0.8717 - 2s/epoch - 4ms/step\n",
      "Epoch 7/10\n",
      "361/361 - 1s - loss: 0.1505 - accuracy: 0.9467 - val_loss: 0.3285 - val_accuracy: 0.8744 - 1s/epoch - 4ms/step\n",
      "Epoch 8/10\n",
      "361/361 - 2s - loss: 0.1385 - accuracy: 0.9491 - val_loss: 0.3294 - val_accuracy: 0.8734 - 2s/epoch - 4ms/step\n",
      "Epoch 9/10\n",
      "361/361 - 1s - loss: 0.1259 - accuracy: 0.9549 - val_loss: 0.3441 - val_accuracy: 0.8755 - 1s/epoch - 4ms/step\n",
      "Epoch 10/10\n",
      "361/361 - 1s - loss: 0.1241 - accuracy: 0.9539 - val_loss: 0.3299 - val_accuracy: 0.8717 - 1s/epoch - 4ms/step\n"
     ]
    }
   ],
   "source": [
    "# Компилируем модель\n",
    "model.compile(\n",
    "    optimizer=optimizers.Adam(learning_rate=1e-3), #алгоритм оптимизации\n",
    "    loss='binary_crossentropy', #функция потерь\n",
    "    metrics=['accuracy'] #метрика\n",
    ")\n",
    "# Обучаем модель\n",
    "history = model.fit(\n",
    "    train_matrix, train_labels, #примеры и ответы к ним\n",
    "    batch_size=32, #сколько примеров подаем на один шаг градиентного спуска\n",
    "    epochs=10, #сколько раз будем пропускать данные через сеть\n",
    "    verbose=2, #без process bar'a\n",
    "    validation_data=(test_matrix, test_labels) #выборка для контроля\n",
    ")"
   ]
  },
  {
   "cell_type": "code",
   "execution_count": 324,
   "metadata": {},
   "outputs": [
    {
     "data": {
      "image/png": "[encoded data removed]",
      "text/plain": [
       "<Figure size 1080x360 with 2 Axes>"
      ]
     },
     "metadata": {
      "needs_background": "light"
     },
     "output_type": "display_data"
    }
   ],
   "source": [
    "import matplotlib.pyplot as plt\n",
    "\n",
    "def plot_history_learning(history, figsize=(15,5)):\n",
    "    # Создаем фигуру и 2 координатные плоскости\n",
    "    fig, axes = plt.subplots(1, 2, figsize=figsize)\n",
    "    # Строим два линейных графика для метрик на первой плоскости\n",
    "    axes[0].plot(history.history['accuracy'], label='Train metric')\n",
    "    axes[0].plot(history.history['val_accuracy'], label='Test metric')\n",
    "    axes[0].set_xlabel('Epoch')\n",
    "    axes[0].set_ylabel('Metric')\n",
    "    axes[0].grid()\n",
    "    # Строим два линейных графика для метрик на второй плоскости\n",
    "    axes[1].plot(history.history['loss'], label='Train loss')\n",
    "    axes[1].plot(history.history['val_loss'], label='Test loss')\n",
    "    axes[1].set_xlabel('Epoch')\n",
    "    axes[1].set_ylabel('Loss')\n",
    "    axes[1].grid()\n",
    "    \n",
    "    plt.legend()\n",
    "plot_history_learning(history)"
   ]
  },
  {
   "cell_type": "markdown",
   "metadata": {},
   "source": [
    "## 3. Рекуррентные нейронные сети"
   ]
  },
  {
   "cell_type": "markdown",
   "metadata": {},
   "source": [
    "### Превращение текста в последовательность"
   ]
  },
  {
   "cell_type": "code",
   "execution_count": 247,
   "metadata": {},
   "outputs": [],
   "source": [
    "# создаем последовательности из текстов\n",
    "train_sequences = tokenizer.texts_to_sequences(train_text)\n",
    "test_sequences = tokenizer.texts_to_sequences(test_text)"
   ]
  },
  {
   "cell_type": "code",
   "execution_count": 248,
   "metadata": {},
   "outputs": [
    {
     "data": {
      "text/plain": [
       "'очевидный топтать дворник ещё фёдорович весь страна заниматься это просто уровень деятельность вот попасться куколд воевак а гонор сколько дунбусый грозный дверь настежь давать говно раз когда твой сестра быть насиловать черенок веник дворник быть просто играть подземелье дракон делать вид происходить а джимми нейтрон напрячь мозг быть искать релевантный решение проблема пока сестричка венок ромашка голова раздирать дырочка ссать ты рот весь кондопог чек нацианалистъ твой маняврирование вопрос точно такой тухлый пиздабольство стрёма жирный мочь гость записиться достаточно всратый паток ах хулить мама юбка спасать наш новиоп трускаха злой фашист за пять год собраться давать рещё чучело'"
      ]
     },
     "execution_count": 248,
     "metadata": {},
     "output_type": "execute_result"
    }
   ],
   "source": [
    "train_text[100]"
   ]
  },
  {
   "cell_type": "code",
   "execution_count": 258,
   "metadata": {},
   "outputs": [
    {
     "data": {
      "text/plain": [
       "(11529,)"
      ]
     },
     "execution_count": 258,
     "metadata": {},
     "output_type": "execute_result"
    }
   ],
   "source": [
    "train_text.shape"
   ]
  },
  {
   "cell_type": "code",
   "execution_count": 253,
   "metadata": {},
   "outputs": [],
   "source": [
    "trunc_type = 'post' #метод ограничения\n",
    "padding_type = 'post' #метод дополнения\n",
    "embedding_dim = 64 # размер эмбединга\n",
    "max_length = 50 # максимальная длина последовательности\n",
    "\n",
    "# ограничиваем длину последовательностей \n",
    "train_padded = pad_sequences(\n",
    "    train_sequences, \n",
    "    maxlen=max_length, \n",
    "    padding=padding_type, \n",
    "    truncating=trunc_type\n",
    ")\n",
    "\n",
    "test_padded = pad_sequences(\n",
    "    test_sequences, \n",
    "    maxlen=max_length, \n",
    "    padding=padding_type, \n",
    "    truncating=trunc_type\n",
    ")"
   ]
  },
  {
   "cell_type": "code",
   "execution_count": 311,
   "metadata": {},
   "outputs": [
    {
     "data": {
      "text/plain": [
       "array([2373,  637, 3400,  842,    1,    1,    0,    0,    0,    0,    0,\n",
       "          0,    0,    0,    0,    0,    0,    0,    0,    0,    0,    0,\n",
       "          0,    0,    0,    0,    0,    0,    0,    0,    0,    0,    0,\n",
       "          0,    0,    0,    0,    0,    0,    0,    0,    0,    0,    0,\n",
       "          0,    0,    0,    0,    0,    0])"
      ]
     },
     "execution_count": 311,
     "metadata": {},
     "output_type": "execute_result"
    }
   ],
   "source": [
    "train_padded[100]"
   ]
  },
  {
   "cell_type": "markdown",
   "metadata": {},
   "source": [
    "### Обучаем простую рекуррентную нейронную сеть"
   ]
  },
  {
   "cell_type": "code",
   "execution_count": 345,
   "metadata": {},
   "outputs": [],
   "source": [
    "model = models.Sequential([\n",
    "    layers.Embedding(vocab_size, 64, input_length=max_length),\n",
    "    layers.SimpleRNN(units=8, activation='tanh'),\n",
    "    #layers.Dropout(0.1),\n",
    "    layers.Dense(512, activation=\"relu\"),\n",
    "    #layers.Dropout(0.25),\n",
    "    layers.Dense(1, activation='sigmoid'),\n",
    "])\n",
    "\n",
    "model.compile(\n",
    "    optimizer=optimizers.Adam(learning_rate=1e-4), \n",
    "    loss='binary_crossentropy', \n",
    "    metrics=['accuracy']\n",
    ")"
   ]
  },
  {
   "cell_type": "code",
   "execution_count": 347,
   "metadata": {},
   "outputs": [
    {
     "name": "stdout",
     "output_type": "stream",
     "text": [
      "Epoch 1/10\n",
      "361/361 [==============================] - 4s 10ms/step - loss: 0.6328 - accuracy: 0.6629 - val_loss: 0.6251 - val_accuracy: 0.6743\n",
      "Epoch 2/10\n",
      "361/361 [==============================] - 4s 10ms/step - loss: 0.5798 - accuracy: 0.6923 - val_loss: 0.5508 - val_accuracy: 0.7242\n",
      "Epoch 3/10\n",
      "361/361 [==============================] - 4s 10ms/step - loss: 0.3644 - accuracy: 0.8480 - val_loss: 0.4682 - val_accuracy: 0.7870\n",
      "Epoch 4/10\n",
      "361/361 [==============================] - 4s 10ms/step - loss: 0.2164 - accuracy: 0.9205 - val_loss: 0.4812 - val_accuracy: 0.8012\n",
      "Epoch 5/10\n",
      "361/361 [==============================] - 4s 10ms/step - loss: 0.1448 - accuracy: 0.9521 - val_loss: 0.5207 - val_accuracy: 0.8103\n",
      "Epoch 6/10\n",
      "361/361 [==============================] - 4s 10ms/step - loss: 0.1033 - accuracy: 0.9676 - val_loss: 0.5706 - val_accuracy: 0.8148\n",
      "Epoch 7/10\n",
      "361/361 [==============================] - 4s 10ms/step - loss: 0.0791 - accuracy: 0.9764 - val_loss: 0.6168 - val_accuracy: 0.8092\n",
      "Epoch 8/10\n",
      "361/361 [==============================] - 4s 10ms/step - loss: 0.0638 - accuracy: 0.9815 - val_loss: 0.6583 - val_accuracy: 0.8044\n",
      "Epoch 9/10\n",
      "361/361 [==============================] - 4s 10ms/step - loss: 0.0518 - accuracy: 0.9860 - val_loss: 0.7035 - val_accuracy: 0.8040\n",
      "Epoch 10/10\n",
      "361/361 [==============================] - 4s 10ms/step - loss: 0.0454 - accuracy: 0.9871 - val_loss: 0.7326 - val_accuracy: 0.8019\n"
     ]
    }
   ],
   "source": [
    "history = model.fit(\n",
    "    train_padded, \n",
    "    train_labels, \n",
    "    epochs=10,\n",
    "    batch_size=32,\n",
    "    validation_data=(test_padded, test_labels)\n",
    ")"
   ]
  },
  {
   "cell_type": "code",
   "execution_count": 348,
   "metadata": {},
   "outputs": [
    {
     "data": {
      "image/png": "[encoded data removed]",
      "text/plain": [
       "<Figure size 1080x360 with 2 Axes>"
      ]
     },
     "metadata": {
      "needs_background": "light"
     },
     "output_type": "display_data"
    }
   ],
   "source": [
    "plot_history_learning(history)"
   ]
  },
  {
   "cell_type": "markdown",
   "metadata": {},
   "source": [
    "### Обучаем рекуррентную LSTM нейронную сеть"
   ]
  },
  {
   "cell_type": "code",
   "execution_count": 354,
   "metadata": {
    "id": "8ETORhRkOtIn"
   },
   "outputs": [],
   "source": [
    "model = models.Sequential([\n",
    "    layers.Embedding(vocab_size, 64, input_length=max_length),\n",
    "    layers.LSTM(25),\n",
    "    layers.Dropout(0.5),\n",
    "    layers.Dense(128, activation=\"relu\"),\n",
    "    layers.Dropout(0.25),\n",
    "    layers.Dense(1, activation='sigmoid'),\n",
    "])\n",
    "\n",
    "model.compile(\n",
    "    optimizer=optimizers.Adam(learning_rate=1e-4), \n",
    "    loss='binary_crossentropy', \n",
    "    metrics=['accuracy']\n",
    ")"
   ]
  },
  {
   "cell_type": "markdown",
   "metadata": {
    "id": "qf4f6-skPPsb"
   },
   "source": [
    "### Callbacks"
   ]
  },
  {
   "cell_type": "code",
   "execution_count": 355,
   "metadata": {
    "id": "inD4DaNdWgpL"
   },
   "outputs": [],
   "source": [
    "model_save_path = 'best_model.h5'\n",
    "# callback для сохранения лучшей модели\n",
    "model_checkpoint = callbacks.ModelCheckpoint(\n",
    "    filepath=model_save_path, #путь до файла для сохранения\n",
    "    monitor='val_loss', #на что ориентируемся при сохранении\n",
    "    verbose=1, #отображать ли сохранение\n",
    "    save_best_only=True, #сохраняем только самое лучшее\n",
    "    save_weights_only=False, #сохраняем только веса \n",
    ")\n",
    "\n",
    "# callback для ранней остановки модели\n",
    "early_stoping = callbacks.EarlyStopping(\n",
    "    monitor = \"val_loss\", #на что ориентируемся при остановки\n",
    "    mode = \"min\", #потери должны быть минимальны\n",
    "    patience = 10, #остановка в случае, если потери не уменьшаются n эпох\n",
    ")\n",
    "\n",
    "# callback для уменьшения learning rate\n",
    "reduce_lr = callbacks.ReduceLROnPlateau(\n",
    "    monitor='val_loss', #на что ориентируемся для уменьшении\n",
    "    factor=0.5, #множитель для изменения learning rate\n",
    "    patience=5, #сколько эпох не должны меняться потери, чтобы уменьшить learning rate\n",
    "    verbose=1, #отображать ли изменение в истории  \n",
    ")\n",
    "\n",
    "callback_list = [model_checkpoint, early_stoping, reduce_lr]\n"
   ]
  },
  {
   "cell_type": "code",
   "execution_count": 356,
   "metadata": {
    "colab": {
     "base_uri": "https://localhost:8080/",
     "height": 397
    },
    "id": "3RjBsU8_PSqp",
    "outputId": "77eb6312-56a0-4cbb-ee4f-844af920032e"
   },
   "outputs": [
    {
     "name": "stdout",
     "output_type": "stream",
     "text": [
      "Epoch 1/10\n",
      "358/361 [============================>.] - ETA: 0s - loss: 0.6573 - accuracy: 0.6601\n",
      "Epoch 1: val_loss improved from inf to 0.63690, saving model to best_model.h5\n",
      "361/361 [==============================] - 7s 16ms/step - loss: 0.6572 - accuracy: 0.6602 - val_loss: 0.6369 - val_accuracy: 0.6743 - lr: 1.0000e-04\n",
      "Epoch 2/10\n",
      "360/361 [============================>.] - ETA: 0s - loss: 0.6443 - accuracy: 0.6631\n",
      "Epoch 2: val_loss improved from 0.63690 to 0.63336, saving model to best_model.h5\n",
      "361/361 [==============================] - 6s 17ms/step - loss: 0.6445 - accuracy: 0.6629 - val_loss: 0.6334 - val_accuracy: 0.6743 - lr: 1.0000e-04\n",
      "Epoch 3/10\n",
      "359/361 [============================>.] - ETA: 0s - loss: 0.6418 - accuracy: 0.6627\n",
      "Epoch 3: val_loss improved from 0.63336 to 0.62970, saving model to best_model.h5\n",
      "361/361 [==============================] - 6s 15ms/step - loss: 0.6417 - accuracy: 0.6629 - val_loss: 0.6297 - val_accuracy: 0.6743 - lr: 1.0000e-04\n",
      "Epoch 4/10\n",
      "360/361 [============================>.] - ETA: 0s - loss: 0.5973 - accuracy: 0.6740\n",
      "Epoch 4: val_loss improved from 0.62970 to 0.41153, saving model to best_model.h5\n",
      "361/361 [==============================] - 5s 15ms/step - loss: 0.5972 - accuracy: 0.6740 - val_loss: 0.4115 - val_accuracy: 0.8356 - lr: 1.0000e-04\n",
      "Epoch 5/10\n",
      "359/361 [============================>.] - ETA: 0s - loss: 0.3369 - accuracy: 0.8693\n",
      "Epoch 5: val_loss improved from 0.41153 to 0.31982, saving model to best_model.h5\n",
      "361/361 [==============================] - 6s 16ms/step - loss: 0.3367 - accuracy: 0.8694 - val_loss: 0.3198 - val_accuracy: 0.8661 - lr: 1.0000e-04\n",
      "Epoch 6/10\n",
      "359/361 [============================>.] - ETA: 0s - loss: 0.2433 - accuracy: 0.9143\n",
      "Epoch 6: val_loss improved from 0.31982 to 0.29645, saving model to best_model.h5\n",
      "361/361 [==============================] - 6s 15ms/step - loss: 0.2428 - accuracy: 0.9145 - val_loss: 0.2964 - val_accuracy: 0.8796 - lr: 1.0000e-04\n",
      "Epoch 7/10\n",
      "360/361 [============================>.] - ETA: 0s - loss: 0.2078 - accuracy: 0.9300\n",
      "Epoch 7: val_loss did not improve from 0.29645\n",
      "361/361 [==============================] - 6s 16ms/step - loss: 0.2077 - accuracy: 0.9301 - val_loss: 0.2993 - val_accuracy: 0.8845 - lr: 1.0000e-04\n",
      "Epoch 8/10\n",
      "359/361 [============================>.] - ETA: 0s - loss: 0.1815 - accuracy: 0.9394\n",
      "Epoch 8: val_loss did not improve from 0.29645\n",
      "361/361 [==============================] - 6s 16ms/step - loss: 0.1811 - accuracy: 0.9396 - val_loss: 0.3155 - val_accuracy: 0.8841 - lr: 1.0000e-04\n",
      "Epoch 9/10\n",
      "358/361 [============================>.] - ETA: 0s - loss: 0.1577 - accuracy: 0.9497\n",
      "Epoch 9: val_loss did not improve from 0.29645\n",
      "361/361 [==============================] - 6s 16ms/step - loss: 0.1573 - accuracy: 0.9500 - val_loss: 0.3286 - val_accuracy: 0.8831 - lr: 1.0000e-04\n",
      "Epoch 10/10\n",
      "360/361 [============================>.] - ETA: 0s - loss: 0.1393 - accuracy: 0.9580\n",
      "Epoch 10: val_loss did not improve from 0.29645\n",
      "361/361 [==============================] - 6s 17ms/step - loss: 0.1395 - accuracy: 0.9578 - val_loss: 0.3615 - val_accuracy: 0.8807 - lr: 1.0000e-04\n"
     ]
    }
   ],
   "source": [
    "history = model.fit(\n",
    "    train_padded, \n",
    "    train_labels, \n",
    "    epochs=10,\n",
    "    batch_size=32,\n",
    "    validation_data=(test_padded, test_labels),\n",
    "    callbacks=callback_list\n",
    ")"
   ]
  },
  {
   "cell_type": "code",
   "execution_count": 357,
   "metadata": {
    "colab": {
     "base_uri": "https://localhost:8080/",
     "height": 279
    },
    "id": "D87iUZmNP0rk",
    "outputId": "c2479d49-c12a-4634-dde9-342783d64a1e"
   },
   "outputs": [
    {
     "data": {
      "image/png": "[encoded data removed]",
      "text/plain": [
       "<Figure size 1080x360 with 2 Axes>"
      ]
     },
     "metadata": {
      "needs_background": "light"
     },
     "output_type": "display_data"
    }
   ],
   "source": [
    "plot_history_learning(history)"
   ]
  },
  {
   "cell_type": "markdown",
   "metadata": {
    "id": "8RvgNPpMa172"
   },
   "source": [
    "Загружаем модель с лучшей метрикой"
   ]
  },
  {
   "cell_type": "code",
   "execution_count": 299,
   "metadata": {
    "id": "MlxUbg8va_VT"
   },
   "outputs": [],
   "source": [
    "model.load_weights(model_save_path)"
   ]
  },
  {
   "cell_type": "code",
   "execution_count": 300,
   "metadata": {
    "id": "E7mb_GYadd_a"
   },
   "outputs": [],
   "source": [
    "text = '''Зачем ты пишешь фигню, дегенерат? Иди прочисти себе мозги'''"
   ]
  },
  {
   "cell_type": "code",
   "execution_count": 301,
   "metadata": {
    "id": "g_YUdpNWcv8x"
   },
   "outputs": [],
   "source": [
    "sequence = tokenizer.texts_to_sequences([text])"
   ]
  },
  {
   "cell_type": "code",
   "execution_count": 302,
   "metadata": {
    "colab": {
     "base_uri": "https://localhost:8080/",
     "height": 480
    },
    "id": "wyYO190ffF4n",
    "outputId": "abe1b894-dbc6-44c6-8386-9d88f567a190"
   },
   "outputs": [
    {
     "data": {
      "text/plain": [
       "[[485, 23, 1, 1, 553, 1, 1, 1, 1]]"
      ]
     },
     "execution_count": 302,
     "metadata": {},
     "output_type": "execute_result"
    }
   ],
   "source": [
    "sequence"
   ]
  },
  {
   "cell_type": "code",
   "execution_count": 303,
   "metadata": {
    "id": "uKWdH2qKfIdG"
   },
   "outputs": [],
   "source": [
    "data = pad_sequences(sequence, maxlen=max_length)"
   ]
  },
  {
   "cell_type": "code",
   "execution_count": 304,
   "metadata": {
    "colab": {
     "base_uri": "https://localhost:8080/",
     "height": 188
    },
    "id": "skYUSk6CfeHs",
    "outputId": "60af2ffe-d15e-45c3-c5cc-f56eb54d08b6"
   },
   "outputs": [
    {
     "data": {
      "text/plain": [
       "array([[  0,   0,   0,   0,   0,   0,   0,   0,   0,   0,   0,   0,   0,\n",
       "          0,   0,   0,   0,   0,   0,   0,   0,   0,   0,   0,   0,   0,\n",
       "          0,   0,   0,   0,   0,   0,   0,   0,   0,   0,   0,   0,   0,\n",
       "          0,   0, 485,  23,   1,   1, 553,   1,   1,   1,   1]])"
      ]
     },
     "execution_count": 304,
     "metadata": {},
     "output_type": "execute_result"
    }
   ],
   "source": [
    "data"
   ]
  },
  {
   "cell_type": "code",
   "execution_count": 305,
   "metadata": {
    "id": "K_VBdXOlffK2"
   },
   "outputs": [
    {
     "name": "stdout",
     "output_type": "stream",
     "text": [
      "Комментарий отрицательный\n"
     ]
    }
   ],
   "source": [
    "result = model.predict(data)\n",
    "if result > 0.5:\n",
    "    print('Комментарий отрицательный')\n",
    "else:\n",
    "    print('Комментарий положительный')"
   ]
  },
  {
   "cell_type": "markdown",
   "metadata": {
    "id": "5lkKDy7_ung1"
   },
   "source": [
    "## Задания для самостоятельной работы\n",
    "\n",
    "Меняйте гиперпараметры нейросети, чтобы повысить качество работы:\n",
    "  - Длину вектора представления слов в слое Embedding.\n",
    "  - Количество нейронов на рекуррентном слое (LSTM).\n",
    "  - Количество рекуррентные слоев.\n",
    "  - Тип оптимизатора (`adam`, `rmsprop` и др.)\n",
    "  - Количество эпох обучения.\n",
    "  - Размер мини-выборки.\n",
    "3.Попробуйте применить вместо токенизатора Keras более совершенные:\n",
    "  - [spaCy Tokenizer](https://spacy.io/usage/spacy-101#annotations-token)\n",
    "  - [Huggingface Tokenizers](https://github.com/huggingface/tokenizers)\n",
    "  \n",
    "    Эти токенизаторы сложнее в использовании, но работают лучше.\n",
    "4. Переделайте нейросеть для распознавания набора данных [Yelp reviews - Full](https://s3.amazonaws.com/fast-ai-nlp/yelp_review_full_csv.tgz), в котором 4 класса по количеству звезд у отзывов."
   ]
  }
 ],
 "metadata": {
  "accelerator": "GPU",
  "colab": {
   "collapsed_sections": [],
   "name": "dl_nlp_yelp_polarity.ipynb",
   "provenance": []
  },
  "kernelspec": {
   "display_name": "Python 3 (ipykernel)",
   "language": "python",
   "name": "python3"
  },
  "language_info": {
   "codemirror_mode": {
    "name": "ipython",
    "version": 3
   },
   "file_extension": ".py",
   "mimetype": "text/x-python",
   "name": "python",
   "nbconvert_exporter": "python",
   "pygments_lexer": "ipython3",
   "version": "3.9.7"
  }
 },
 "nbformat": 4,
 "nbformat_minor": 4
}
